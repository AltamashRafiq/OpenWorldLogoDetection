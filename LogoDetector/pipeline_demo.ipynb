{
  "nbformat": 4,
  "nbformat_minor": 0,
  "metadata": {
    "colab": {
      "name": "pipeline_demo.ipynb",
      "provenance": [],
      "collapsed_sections": []
    },
    "kernelspec": {
      "name": "python3",
      "display_name": "Python 3"
    },
    "language_info": {
      "name": "python"
    },
    "accelerator": "GPU"
  },
  "cells": [
    {
      "cell_type": "code",
      "metadata": {
        "id": "dyFhPS_Pcn-8"
      },
      "source": [
        "# Load google drive\n",
        "from google.colab import drive\n",
        "drive.mount('/content/drive/')\n",
        "%cd /content/drive/MyDrive/LogoDetector/\n",
        "!make all"
      ],
      "execution_count": null,
      "outputs": []
    },
    {
      "cell_type": "markdown",
      "metadata": {
        "id": "5D77wWXbtHR-"
      },
      "source": [
        "# Prepare Open Set Documents and Append New Classes\n",
        "\n",
        "Use prepare_openset.py to prepare the files for open set classification (in detect.py) and thresholds calculation (in thresholds.py). This file can also be used to append classes to existing lookup tables. See arguments by:\n",
        "\n",
        "```bash\n",
        "python prepare_openset.py -h\n",
        "```\n",
        "\n",
        "Important arguments and details are listed below.\n",
        "\n",
        "## Classifier\n",
        "\n",
        "Arguments:\n",
        "1. --classifier\n",
        "2. --classifier-weights\n",
        "3. --n-classes\n",
        "4. --open-type\n",
        "\n",
        "## Creating Lookup Table from Scratch\n",
        "\n",
        "Arguments:\n",
        "1. -t, --train\n",
        "\n",
        "## Using Pre-Existing Lookup Table\n",
        "\n",
        "Arguments:\n",
        "1. --train-avs\n",
        "2. --train-labs\n",
        "3. --train-class-dict\n",
        "\n",
        "## Appending Classes to Pre-Existing Lookup Table\n",
        "\n",
        "The user needs to only add the new classes (folders) to their existing train dataset.\n",
        "\n",
        "Arguments:\n",
        "1. -a, --append-classes\n",
        "\n",
        "## Creating Open Set Folders\n",
        "\n",
        "Each folder contains the true labels of the input data, the predicted labels (nearest K), and the distances (nearest K) from the lookup table used to assign the predicted labels (nearest K).\n",
        "\n",
        "Arguments:\n",
        "1. -n, --name\n",
        "2. -s, --source\n",
        "3. --K (Optional)\n",
        "\n"
      ]
    },
    {
      "cell_type": "code",
      "metadata": {
        "colab": {
          "base_uri": "https://localhost:8080/"
        },
        "id": "muVTi8Qcd59C",
        "outputId": "3107e07a-9ad6-446f-b70a-a42ffc835f15"
      },
      "source": [
        "!(python prepare_openset.py -t PATH_TO_TRAIN_DATA \\\n",
        "-n known -s PATH_TO_HELD_OUT_KNOWN \\\n",
        "-n unknown -s PATH_TO_HELD_OUT_UNKNOWN \\\n",
        "--project PROJECT_NAME \\\n",
        "--open-type OPENSET_TYPE \\\n",
        "--classifier CLASSIFIER_NAME \\\n",
        "--classifier-weights PATH_TO_CLASSIFIER_WEIGHTS \\\n",
        "--n-classes NUM_CLASSES_USED_TO_TRAIN_CLASSIFIER)"
      ],
      "execution_count": null,
      "outputs": [
        {
          "output_type": "stream",
          "text": [
            "Namespace(K=2, append_classes=False, classifier='efficientnet_b3', classifier_weights='weights/model-b3-closed-decay-ar-aug3.pt', device='', n_classes=32, name=['known', 'unknown'], open_type=2, project='test', source=['/content/drive/.shortcut-targets-by-id/1xJwN_3Fb5GrUvXR60GCXOAUjZob0ggt1/clean_logos/output/closed_set_val', '/content/drive/.shortcut-targets-by-id/1xJwN_3Fb5GrUvXR60GCXOAUjZob0ggt1/clean_logos/output/unknown_train'], train='/content/drive/.shortcut-targets-by-id/1xJwN_3Fb5GrUvXR60GCXOAUjZob0ggt1/clean_logos/output/closed_set_train', train_avs=None, train_class_dict=None, train_labs=None)\n",
            "\n",
            "Loading in data from /content/drive/.shortcut-targets-by-id/1xJwN_3Fb5GrUvXR60GCXOAUjZob0ggt1/clean_logos/output/closed_set_train... DONE\n",
            "\n",
            "Calculating train activation vectors... DONE (87.38s)\n",
            "\n",
            "True labels, predicted labels (top 2), associated distances, and activation vectors to config/activations/test/train/\n",
            "Loading in data from /content/drive/.shortcut-targets-by-id/1xJwN_3Fb5GrUvXR60GCXOAUjZob0ggt1/clean_logos/output/closed_set_val... DONE\n",
            "\n",
            "Calculating predicted labels and distances for known... DONE (30.94s)\n",
            "\n",
            "True labels, predicted labels (top 2), associated distances, and activation vectors to config/activations/test/known/\n",
            "Loading in data from /content/drive/.shortcut-targets-by-id/1xJwN_3Fb5GrUvXR60GCXOAUjZob0ggt1/clean_logos/output/unknown_train... DONE\n",
            "\n",
            "Calculating predicted labels and distances for unknown... DONE (31.30s)\n",
            "\n",
            "True labels, predicted labels (top 2), associated distances, and activation vectors to config/activations/test/unknown/\n"
          ],
          "name": "stdout"
        }
      ]
    },
    {
      "cell_type": "markdown",
      "metadata": {
        "id": "zu7SbrYopC3s"
      },
      "source": [
        "# Obtaining Thresholds and Testing Thresholds\n",
        "\n",
        "Use thresholds.py to obtain thresholds (--T in detect.py) for open set classification. This file can also be used to test the performance of calculated or provided thresholds. See arguments by:\n",
        "\n",
        "```bash\n",
        "python threshold.py -h\n",
        "```\n",
        "\n",
        "Important arguments and details are listed below.\n",
        "\n",
        "## Calculate Thresholds\n",
        "\n",
        "Arguments:\n",
        "1. --name\n",
        "2. --train (folder generated by prepare_openset.py)\n",
        "3. --known (folder generated by prepare_openset.py)\n",
        "4. --unknown (folder generated by prepare_openset.py)\n",
        "\n",
        "## Test Thresholds\n",
        "\n",
        "Arguments:\n",
        "1. --T (Optional)\n",
        "2. --test (folder generated by prepare_openset.py)\n",
        "3. --test-unknown (folder generated by prepare_openset.py)\n"
      ]
    },
    {
      "cell_type": "code",
      "metadata": {
        "colab": {
          "base_uri": "https://localhost:8080/"
        },
        "id": "Uzxp7BKji06Q",
        "outputId": "bc3c1db6-9fd8-4def-cbf4-9718e2168e9f"
      },
      "source": [
        "!(python thresholds.py --name NAME_OF_THRESHOLDS_FILE \\\n",
        "--train PATH_TO_OPENSET_TRAIN_FOLDER \\\n",
        "--known PATH_TO_OPENSET_KNOWN_FOLDER \\\n",
        "--unknown PATH_TO_OPENSET_UNKNOWN_FOLDER)"
      ],
      "execution_count": null,
      "outputs": [
        {
          "output_type": "stream",
          "text": [
            "Namespace(T=None, device='', known='config/activations/test/known/', name='Ts', test=None, test_unknown=None, train='config/activations/test/train/', unknown='config/activations/test/unknown/')\n",
            "\n",
            "Calculating Thresholds... DONE (4.44s)\n",
            "Thresholds saved to config/Ts.p\n",
            "\n",
            "TRAIN PERFORMANCE\n",
            "Correctly Identified Unknown Percentage (Openset Accuracy): 95.57%\n",
            "Incorrectly Called Unknown: 4.09%\n",
            "Micro Top 1 Accuracy: 95.19%\n",
            "\n"
          ],
          "name": "stdout"
        }
      ]
    },
    {
      "cell_type": "markdown",
      "metadata": {
        "id": "K3LKVliEpDg0"
      },
      "source": [
        "# Detection and Open Set Classification\n",
        "\n",
        "Use detect.py for detection and open set classification. See arguments by:\n",
        "\n",
        "```bash\n",
        "python detect.py -h\n",
        "```\n",
        "\n",
        "Important arguments and details are listed below.\n",
        "\n",
        "## Detectors\n",
        "\n",
        "Arguments:\n",
        "1. -d, --detector\n",
        "2. -dw, --detector-weights\n",
        "3. -dt, --detector-threshold\n",
        "4. --rcnn-arch \n",
        "\n",
        "Users can have a maximum of two -d, -dw, and -dt arguments. Having only one argument for each means the user only uses that detector. If there are two arguments, the detectors are __ensembled__.\n",
        "\n",
        "## Classifier\n",
        "\n",
        "Arguments:\n",
        "1. -c, --classifier \n",
        "2. -cw, --classifier-weights\n",
        "3. --brand-mapping (output from prepare_openset.py: train_class_dict.p)\n",
        "4. --n-classes\n",
        "\n",
        "## Open Set Learning\n",
        "\n",
        "Arguments:\n",
        "1. --open-type \n",
        "2. --T (output from thresholds.py)\n",
        "3. --train-avs (output from prepare_openset.py: train_avs.pt)\n",
        "4. --train-labs (output from prepare_openset.py: train_labs.pt)\n",
        "\n",
        "## Images\n",
        "\n",
        "Arguments:\n",
        "1. --source\n",
        "\n",
        "## Output\n",
        "\n",
        "Arguments:\n",
        "1. --save-json\n",
        "2. --save-img\n",
        "3. --name (optional)\n",
        "4. --project (optional)\n",
        "\n",
        "__Note__: The other arguments to this file are completely optional and their functions can be read/understood by visiting https://github.com/ultralytics/yolov3."
      ]
    },
    {
      "cell_type": "code",
      "metadata": {
        "colab": {
          "base_uri": "https://localhost:8080/"
        },
        "id": "I0eor34ukiZo",
        "outputId": "95d0bb68-b1dc-4049-8d41-7cfa9d46a22f"
      },
      "source": [
        "!(python detect.py -d NAME_OF_DETECTOR \\\n",
        "-dw PATH_TO_DETECTOR_WEIGHTS \\\n",
        "-dt THRESHOLD_FOR_DETECTOR_WEIGHTS \\\n",
        "-c NAME_OF_CLASSIFIER \\\n",
        "-cw PATH_TO_CLASSIFIER_WEIGHTS \\\n",
        "--source PATH_TO_IMAGES_FOR_PREDICTIONS \\\n",
        "--name NAME_OF_FOLDER_TO_SAVE_RESULTS \\\n",
        "--train-avs PATH_TO_TRAIN_ACTIVATION_VECTORS \\\n",
        "--train-labs PATH_TO_TRAIN_LABELS \\\n",
        "--brand-mapping PATH_TO_TRAIN_CLASS_DICT \\\n",
        "--T PATH_TO_THRESHOLDS \\\n",
        "--n-classes NUM_CLASSES_USED_TO_TRAIN_CLASSIFIER \\\n",
        "--save-img \\\n",
        "--save-json) "
      ],
      "execution_count": null,
      "outputs": [
        {
          "output_type": "stream",
          "text": [
            "Namespace(T='config/Ts.p', agnostic_nms=False, augment=False, brand_mapping='config/activations/test/train/train_class_dict.p', classes=None, classifier='efficientnet_b3', classifier_weights='weights/model-b3-closed-decay-ar-aug3.pt', detect_thres=['0.3'], detector=['yolo'], detector_weights=['weights/yolo.pt'], device='', exist_ok=False, img_size=2560, iou_thres=0.45, n_classes=32, name='experiment', open_type=2, project='runs/detect', rcnn_arch='COCO-Detection/faster_rcnn_X_101_32x8d_FPN_3x.yaml', save_img=True, save_json=False, source='/content/drive/.shortcut-targets-by-id/1xJwN_3Fb5GrUvXR60GCXOAUjZob0ggt1/clean_logos/output/demo/', train_avs='config/activations/test/train/train_avs.pt', train_labs='config/activations/test/train/train_labs.pt', transform_sz=300)\n",
            "YOLOv3  torch 1.7.1 CUDA:0 (Tesla T4, 15109.75MB)\n",
            "\n",
            "Fusing layers... \n",
            "Model Summary: 269 layers, 62546518 parameters, 0 gradients, 155.7 GFLOPS\n",
            "image 1/4 dc647a1bdd7c62902b9da767c1ead9cbbaeafeecb4e2728f001a8176a0d6a3ac (1).png\n",
            "image 2/4 e0ee2f06b9baccc2c8985f989a8289ab4fc2855d245d457b6db2aad573a559f6 (1).png\n",
            "image 3/4 e1ce81b36fbc30bf52dfb6427787ce8e5868f10a3db491d101eb2ff68abea31a (1).png\n",
            "image 4/4 e2a35de61ac101d39632d732d49429ea557367b4c9982ceea1b122619829d6a8 (1).png\n",
            "Results saved to runs/detect/experiment3\n",
            "Done. (1.771s)\n"
          ],
          "name": "stdout"
        }
      ]
    },
    {
      "cell_type": "code",
      "metadata": {
        "id": "AL7kLylPp6yQ"
      },
      "source": [
        ""
      ],
      "execution_count": null,
      "outputs": []
    }
  ]
}