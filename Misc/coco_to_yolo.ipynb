{
 "cells": [
  {
   "cell_type": "code",
   "execution_count": 3,
   "metadata": {},
   "outputs": [],
   "source": [
    "import json\n",
    "\n",
    "# to be specified by the user\n",
    "path_to_coco_labels = \"PATH_TO_COCO_LABELS\"\n",
    "path_to_output_folder = \"PATH_TO_OUTPUT_FOLDER\"\n",
    "\n",
    "with open(path_to_coco_labels) as f: # load coco annotations\n",
    "    data = json.load(f)\n",
    "\n",
    "data_images = dict() # init bounding boxes collection\n",
    "for e in data['annotations']:\n",
    "    # save all bounding boxes to dictionary\n",
    "    img = e[\"image_id\"]\n",
    "    if img in data_images:\n",
    "        data_images[img].append(e[\"bbox\"].copy())\n",
    "    else:\n",
    "        data_images[img] = [e[\"bbox\"].copy()]\n",
    "\n",
    "for img in list(data_images.keys()):\n",
    "    for bbox in data_images[img]:\n",
    "        # for each image, convert each box to yolo format\n",
    "        bbox[0] = bbox[0] + (bbox[2] / 2)\n",
    "        bbox[1] = bbox[1] + (bbox[3] / 2)\n",
    "        bbox[0] = round(bbox[0] / 2560, 6) # hardcoded for 1440x2560 image\n",
    "        bbox[1] = round(bbox[1] / 1440, 6)\n",
    "        bbox[2] = round(bbox[2] / 2560, 6)\n",
    "        bbox[3] = round(bbox[3] / 1440, 6)\n",
    "    with open(path_to_output_folder \"/\" + img + \".txt\", 'w') as f:\n",
    "        for bbox in data_images[img]:\n",
    "            # write to label file\n",
    "            f.write(\"0 {} {} {} {}\\n\".format(bbox[0], bbox[1], bbox[2], bbox[3]))"
   ]
  }
 ],
 "metadata": {
  "kernelspec": {
   "display_name": "Python 3",
   "language": "python",
   "name": "python3"
  },
  "language_info": {
   "codemirror_mode": {
    "name": "ipython",
    "version": 3
   },
   "file_extension": ".py",
   "mimetype": "text/x-python",
   "name": "python",
   "nbconvert_exporter": "python",
   "pygments_lexer": "ipython3",
   "version": "3.8.5"
  }
 },
 "nbformat": 4,
 "nbformat_minor": 4
}
