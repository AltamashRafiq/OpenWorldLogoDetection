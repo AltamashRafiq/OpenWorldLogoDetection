{
 "cells": [
  {
   "cell_type": "code",
   "execution_count": null,
   "metadata": {},
   "outputs": [],
   "source": [
    "from pyppeteer import launch\n",
    "import asyncio\n",
    "import hashlib\n",
    "\n",
    "async def get_screenshot(url, folder, img_id): \n",
    "    ### folder = folder_to_store_images, image_id = name_of_image\n",
    "    # launching new page of browser\n",
    "    browser = await launch(headless = True)\n",
    "    page = await browser.newPage()\n",
    "    await page.setViewport({\n",
    "        'width': 1280, 'height': 720,\n",
    "        'deviceScaleFactor': 2.0\n",
    "    })\n",
    "    try:\n",
    "        await page.goto(url) # visiting url\n",
    "        # taking screenshot\n",
    "        await page.screenshot({ 'path': folder + \"/\" + img_id + \".png\"})\n",
    "    except Exception as e:\n",
    "        # reports failed link\n",
    "        print(\"Failed to open: \" + url)\n",
    "    await browser.close() # closing browser\n",
    "    \n",
    "urls = LIST_OF_URLS_TO_SCRAPE # the user must populate this list\n",
    "for url in urls:\n",
    "    hashed = hashlib.sha256(url.encode()).hexdigest() # hashed name\n",
    "    await get_screenshot(url, directory, hashed) # take screenshot"
   ]
  }
 ],
 "metadata": {
  "kernelspec": {
   "display_name": "Python 3",
   "language": "python",
   "name": "python3"
  },
  "language_info": {
   "codemirror_mode": {
    "name": "ipython",
    "version": 3
   },
   "file_extension": ".py",
   "mimetype": "text/x-python",
   "name": "python",
   "nbconvert_exporter": "python",
   "pygments_lexer": "ipython3",
   "version": "3.8.5"
  }
 },
 "nbformat": 4,
 "nbformat_minor": 4
}
