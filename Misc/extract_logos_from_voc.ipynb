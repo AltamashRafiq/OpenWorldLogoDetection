{
 "cells": [
  {
   "cell_type": "code",
   "execution_count": 157,
   "metadata": {},
   "outputs": [],
   "source": [
    "import pandas as pd\n",
    "import numpy as np\n",
    "import os\n",
    "import xml.etree.ElementTree as ET\n",
    "import cv2\n",
    "\n",
    "# paths (specified by user)\n",
    "imgs = PATH_TO_IMAGES\n",
    "labs = PATH_TO_VOC_LABELS\n",
    "direc_ids = PATH_TO_IMAGE_IDS_TXT_FILE\n",
    "store_path = PATH_TO_STORE_EXTRACTED_LOGOS\n",
    "\n",
    "with open(direc_ids) as f:\n",
    "    # read in ids as list\n",
    "    direc_ids = f.read().split('\\n')\n",
    "\n",
    "def xml_to_list(root, path, f = int):\n",
    "    return list(map(lambda x: f(x.text), root.findall(path)))\n",
    "\n",
    "def extract_logos(store_path, direc_ids):\n",
    "    for i in direc_ids:\n",
    "        img = imgs + i + \".png\"\n",
    "        im0 = cv2.imread(img) # read image\n",
    "        lab = labs + i + \".xml\"\n",
    "        if os.path.exists(lab): # if label exists for image\n",
    "            root = ET.parse(lab).getroot() \n",
    "            names = xml_to_list(root, './object/name', str) # annotation labels\n",
    "            # bounding box coordinates\n",
    "            x1s = xml_to_list(root, './object/bndbox/xmin')\n",
    "            y1s = xml_to_list(root, './object/bndbox/ymin')\n",
    "            x2s = xml_to_list(root, './object/bndbox/xmax')\n",
    "            y2s = xml_to_list(root, './object/bndbox/ymax')\n",
    "            for name, x1, y1, x2, y2 in zip(names, x1s, y1s, x2s, y2s):\n",
    "                logo = im0[y1:y2, x1:x2] # extract logo using bbox coordinates\n",
    "                store = store_path + name + \"/\"\n",
    "                if os.path.exists(store) == False:\n",
    "                    os.mkdir(store) # make store directory is doesn't exist\n",
    "                num = str(len(os.listdir(store)) + 1)\n",
    "                cv2.imwrite(store + num + \".png\", logo) # write logo image\n",
    "                \n",
    "extract_logos(store_path, direc_ids)"
   ]
  }
 ],
 "metadata": {
  "kernelspec": {
   "display_name": "Python 3",
   "language": "python",
   "name": "python3"
  },
  "language_info": {
   "codemirror_mode": {
    "name": "ipython",
    "version": 3
   },
   "file_extension": ".py",
   "mimetype": "text/x-python",
   "name": "python",
   "nbconvert_exporter": "python",
   "pygments_lexer": "ipython3",
   "version": "3.8.5"
  }
 },
 "nbformat": 4,
 "nbformat_minor": 4
}
